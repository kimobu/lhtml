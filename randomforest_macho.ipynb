{
 "cells": [
  {
   "cell_type": "markdown",
   "id": "95961af9",
   "metadata": {},
   "source": [
    "# Learning How to Machine Learn\n",
    "When we're investigating a large quantity of potentially malicious samples every day, it can be helpful to automatically triage them to know what to put in front of an analyst. Sometimes we can check external sources like Virus Total, but other times we have sensitive samples we can't submit or hashes are not found. Machine learning is one way to bucket Mach-O files as malicious or benign, or packed or not. \n",
    "\n",
    "In this notebook, we'll walk through the steps to collect data and build a malware classification model for Mach-O using static analysis techniques. We'll go through the following steps in an ML process:\n",
    "1. Data pre-processing\n",
    "2. Feature selection and engineering\n",
    "3. Hyper parameter optimization\n",
    "4. Model training\n",
    "5. Assessment and validation"
   ]
  },
  {
   "cell_type": "markdown",
   "id": "05c48ac8",
   "metadata": {},
   "source": [
    "# Data pre-processing\n",
    "In this project we are going to build an ML model using information from Mach-O files. We have have used [Macholibre](https://github.com/aaronst/macholibre) to parse Mach-O files and saved the data as JSON objects in `benign_data`, `malware_data`, and `validation_data`. The parsed files were enriched with Virustotal to obtain the malware family.\n",
    "\n",
    "We need to load these JSON files as a dataframe. Macholibre outputs nested JSON, which breaks some of the default Pandas `read_json()` functionality. To get around that, we will do some manual processing of the JSON files and load in the data.\n",
    "\n",
    "<img src=\"images/json_to_dataframe.png\">"
   ]
  },
  {
   "cell_type": "code",
   "execution_count": 1,
   "id": "cbb819d7",
   "metadata": {},
   "outputs": [],
   "source": [
    "import json\n",
    "import argparse\n",
    "import os\n",
    "import pandas as pd\n",
    "from tqdm import tqdm\n",
    "\n",
    "def load_json(filename: str) -> str:\n",
    "    with open(filename, \"r\") as f:\n",
    "        data = json.loads(f.read())\n",
    "    return data\n",
    "\n",
    "\n",
    "def get_files(path: str) -> list:\n",
    "    filelist = []\n",
    "    for root, dirs, files in os.walk(path):\n",
    "        for filename in files:\n",
    "            fullpath = os.path.join(root, filename)\n",
    "            filelist.append(fullpath)\n",
    "    return filelist\n",
    "\n",
    "\n",
    "def parse_segment(load_command: object):\n",
    "    segment = {}\n",
    "    lname = load_command[\"name\"]\n",
    "    segment[\"name\"] = lname\n",
    "    segment[f\"segment_{lname}_vmsize\"] = load_command[\"vmsize\"]\n",
    "    segment[f\"segment_{lname}_size\"] = load_command[\"size\"]\n",
    "    segment[f\"segment_{lname}_initprot\"] = load_command[\"initprot\"]\n",
    "    segment[f\"segment_{lname}_maxprot\"] = load_command[\"maxprot\"]\n",
    "    segment[f\"segment_{lname}_nsects\"] = load_command[\"nsects\"]\n",
    "    segment[f\"segment_{lname}_entropy\"] = load_command[\"entropy\"]\n",
    "    for sect in load_command[\"sects\"]:\n",
    "        sectname = sect[\"name\"]\n",
    "        segment[f\"segment_{lname}_{sectname}\"] = sect\n",
    "    return segment\n",
    "\n",
    "\n",
    "def parse_loaddylib(load_command: object, mach: object):\n",
    "    dylib = {}\n",
    "    dname = load_command[\"name\"]\n",
    "    dylib[\"name\"] = dname\n",
    "    if \"imports\" in mach[\"macho\"].keys():\n",
    "        impcount = 0\n",
    "        for imp in mach[\"macho\"][\"imports\"]:\n",
    "            if imp[1] == dname:\n",
    "                impcount += 1\n",
    "        dylib[f\"dylib_{dname}_imports\"] =  impcount\n",
    "    return dylib\n",
    "\n",
    "\n",
    "def parse_json(data: object, filename: str):\n",
    "    mach = {}\n",
    "    mach[\"name\"] = data[\"name\"]\n",
    "    mach[\"size\"] = data[\"size\"]\n",
    "    mach[\"entropy\"] = data[\"entropy\"]\n",
    "    mach[\"nlcs\"] = data[\"macho\"][\"nlcs\"]\n",
    "    mach[\"slcs\"] = data[\"macho\"][\"slcs\"]\n",
    " \n",
    "    for flag in data[\"macho\"][\"flags\"]:\n",
    "        fname = f\"flag_{flag}\"\n",
    "        mach[fname] = 1\n",
    "    if \"packed\" in filename:\n",
    "        mach[\"packed\"] = 1\n",
    "    else:\n",
    "        mach[\"packed\"] = 0\n",
    "    if data[\"malware\"] == 1:\n",
    "        mach[\"malware\"] = 1\n",
    "    else:\n",
    "        mach[\"malware\"] = 0\n",
    "    mach['packed_malware'] = mach[\"packed\"] & mach[\"malware\"]\n",
    "    try:\n",
    "        mach['family'] = data['vtscan']['McAfee']['result']\n",
    "    except:\n",
    "        try:\n",
    "            mach['family'] = data['vtscan']['Kaspersky']['result']\n",
    "        except:\n",
    "            mach['family'] = \"No family\"\n",
    "        \n",
    "        \n",
    "    \n",
    "    num_segments = 0\n",
    "    num_imports = 0\n",
    "    for load_command in data[\"macho\"][\"lcs\"]:\n",
    "        lc_type = load_command[\"cmd\"]\n",
    "        if lc_type == \"SEGMENT\" or lc_type == \"SEGMENT_64\":\n",
    "            num_segments += 1\n",
    "            segment = parse_segment(load_command)\n",
    "            sname = segment[\"name\"]\n",
    "            mach[f\"{sname}\"] = 1\n",
    "            for k,v in segment.items():\n",
    "                mach[f\"{k}\"] = v\n",
    "        if lc_type == \"LOAD_DYLIB\":\n",
    "            num_imports += 1\n",
    "            dylib = parse_loaddylib(load_command, data)\n",
    "            dname = dylib[\"name\"]\n",
    "            mach[f\"{dname}\"] = 1\n",
    "            for k,v in dylib.items():\n",
    "                mach[f\"{k}\"] = v\n",
    "    mach[\"num_segments\"] = num_segments\n",
    "    mach[\"num_imports\"] = num_imports\n",
    "    return mach\n"
   ]
  },
  {
   "cell_type": "markdown",
   "id": "9d7fd1ee",
   "metadata": {},
   "source": [
    "Now we will actually read the `benign_data` and `malware_data` files."
   ]
  },
  {
   "cell_type": "code",
   "execution_count": 2,
   "id": "d3b5d205",
   "metadata": {},
   "outputs": [],
   "source": [
    "def call_parse(files, malware=0):\n",
    "    global machos \n",
    "    global max_len \n",
    "    global keys \n",
    "\n",
    "    for file in files:\n",
    "        toparse = []\n",
    "        with open(file, \"r\") as f:\n",
    "            jsondata = json.loads(f.read())\n",
    "            if \"universal\" in jsondata.keys():\n",
    "                for arch in jsondata[\"universal\"][\"machos\"]:\n",
    "                    jsondata[\"macho\"] = arch\n",
    "                    jsondata['malware'] = malware\n",
    "                    toparse.append(jsondata)\n",
    "            else:\n",
    "                jsondata['malware'] = malware\n",
    "                toparse.append(jsondata)\n",
    "        for macho in toparse:\n",
    "            mach = parse_json(macho, file)\n",
    "            if not mach:\n",
    "                print(f\"failed {file}\")\n",
    "                continue\n",
    "            machos.append(mach)\n",
    "            [keys.append(x) for x in mach.keys()]\n",
    "            cur_len = len(mach)\n",
    "            if cur_len > max_len:\n",
    "                max_len = cur_len\n",
    "\n",
    "machos = []\n",
    "max_len = 0\n",
    "keys = []\n",
    "\n",
    "files = get_files(\"benign_data\")\n",
    "call_parse(files)\n",
    "# Repeat, but with malware. Mark malware in JSON\n",
    "files = get_files(\"malware_data\")\n",
    "call_parse(files, malware=1)\n"
   ]
  },
  {
   "cell_type": "code",
   "execution_count": 3,
   "id": "ee4c093d",
   "metadata": {},
   "outputs": [
    {
     "name": "stderr",
     "output_type": "stream",
     "text": [
      "100%|██████████\n"
     ]
    }
   ],
   "source": [
    "df = pd.DataFrame(columns=set(keys))\n",
    "for col in df.columns:\n",
    "    if \"imports\" in col:\n",
    "        df[col] = df[col].astype('object')\n",
    "\n",
    "count=0\n",
    "for mach in tqdm(machos, bar_format=\"{l_bar}{bar}\"):\n",
    "    for col in df.columns:\n",
    "        if col in mach.keys():\n",
    "            if isinstance(mach[col], dict):\n",
    "                # Instead of storing the dict, store the presence-of\n",
    "                df.at[count, col] = 1\n",
    "            else:\n",
    "                df.at[count, col] = mach[col]\n",
    "        else:\n",
    "            if \"imports\" in col:\n",
    "                # If the column was not present, call it -1 as an arbitrary \"did not exist\" value\n",
    "                df.at[count, col] = -1\n",
    "\n",
    "    count+=1\n",
    "df = df.convert_dtypes()"
   ]
  },
  {
   "cell_type": "markdown",
   "id": "559b80b5",
   "metadata": {},
   "source": [
    "We will now fill in missing values. Anything missed here will be handled by imputation during the pipeline below."
   ]
  },
  {
   "cell_type": "code",
   "execution_count": 4,
   "id": "867038dd",
   "metadata": {},
   "outputs": [],
   "source": [
    "df = df.fillna(value={'family': \"No family\"})"
   ]
  },
  {
   "cell_type": "code",
   "execution_count": 5,
   "id": "f6a01e40",
   "metadata": {},
   "outputs": [],
   "source": [
    "for col in df:\n",
    "    # Get dtype for column\n",
    "    dt = df[col].dtype \n",
    "    # Check if it is a number\n",
    "    if dt == 'Int64' or dt == 'Float64':\n",
    "        df[col].fillna(0, inplace=True)\n",
    "    else:\n",
    "        df[col].fillna(\"\", inplace=True)"
   ]
  },
  {
   "cell_type": "code",
   "execution_count": 7,
   "id": "dbf84a5d",
   "metadata": {},
   "outputs": [],
   "source": [
    "# We can save some time in future runs by writing/reading the dataframe as a CSV\n",
    "df.to_csv('macho.csv')\n",
    "#df = pd.read_csv('macho.csv', low_memory=False)"
   ]
  },
  {
   "cell_type": "markdown",
   "id": "cb029968",
   "metadata": {},
   "source": [
    "We will answer three questions.\n",
    "1. Is this file malware?\n",
    "2. Is this file packed?\n",
    "3. Is this file packed malware?\n",
    "\n",
    "We call these y1, y2, and y3.\n",
    "\n",
    "To answer these questions we'll use the features we imported from the JSON files. We drop the features that provide the answers (packed, name, malware, family, packed_malware). Then we call `train_test_split` to create the training data set with 80% of the entries and the testing split with 20% of the entries."
   ]
  },
  {
   "cell_type": "code",
   "execution_count": 8,
   "id": "f76ef6b4",
   "metadata": {},
   "outputs": [],
   "source": [
    "from sklearn.model_selection import train_test_split\n",
    "import numpy as np\n",
    "# pd.NA can cause problems with imputation. Convert to np.nan\n",
    "df = df.replace({pd.NA: np.nan})\n",
    "\n",
    "X = df.drop(['packed','name','malware','family','packed_malware'], axis=1)\n",
    "\n",
    "y1 = df['malware'].astype('int')\n",
    "X_train, X_test, y1_train, y1_test = train_test_split(X, y1, test_size = 0.2, random_state = 42)\n",
    "\n",
    "y2 = df['packed'].astype('int')\n",
    "X_train, X_test, y2_train, y2_test = train_test_split(X, y2, test_size = 0.2, random_state = 42)\n",
    "\n",
    "y3 = df['packed_malware'].astype('int')\n",
    "X_train, X_test, y3_train, y3_test = train_test_split(X, y3, test_size = 0.2, random_state = 42)"
   ]
  },
  {
   "cell_type": "markdown",
   "id": "74fd236e",
   "metadata": {},
   "source": [
    "# Feature selection and engineering\n",
    "Next we'll engineer our features. In case any missing values were left, we use [SimpleImputer](https://scikit-learn.org/stable/modules/generated/sklearn.impute.SimpleImputer.html) to fill them. We're going to use a \"constant\" strategy and use \"0\" for numeric types and \"missing\" for string types.\n",
    "\n",
    "We also want to make our data look normally distributed. We do this with the [StandardScaler](https://scikit-learn.org/stable/modules/generated/sklearn.preprocessing.StandardScaler.html).\n",
    "\n",
    "We have some features that are strings and we need to convert those to numbers. We'll use [OneHotEncoder](https://scikit-learn.org/stable/modules/generated/sklearn.preprocessing.OneHotEncoder.html) to create an integer value from the string. For example, we have the \"maxprot\" characteristic of Load Commands that might look like `[\"rwx\", \"r-x\", \"r--\"]`. After encoding, we'll have new columns like `[\"maxprot_rwx\", \"maxprot_r-x\", \"maxprot_r--\"]` set to either 0 or 1.\n",
    "\n",
    "We turn these into a pipeline so that the transformations happen at the time of fitting."
   ]
  },
  {
   "cell_type": "code",
   "execution_count": 17,
   "id": "cc0f466a",
   "metadata": {},
   "outputs": [],
   "source": [
    "from sklearn.preprocessing import StandardScaler\n",
    "from sklearn.pipeline import make_pipeline\n",
    "from sklearn.preprocessing import OneHotEncoder\n",
    "from sklearn.impute import SimpleImputer\n",
    "from sklearn.compose import make_column_transformer\n",
    "\n",
    "numeric_features = X_train.select_dtypes('int', 'float').columns\n",
    "categorical_features = X_train.select_dtypes('string').columns\n",
    "numeric_transformer = make_pipeline(\n",
    "    SimpleImputer(strategy=\"constant\", fill_value=0),\n",
    "    StandardScaler()\n",
    ")\n",
    "categorical_transformer = make_pipeline(\n",
    "    SimpleImputer(strategy=\"constant\", fill_value=\"missing\"),\n",
    "    OneHotEncoder(handle_unknown=\"ignore\")\n",
    ")\n",
    "col_transformer = make_column_transformer(\n",
    "    (numeric_transformer, numeric_features),\n",
    "    (categorical_transformer, categorical_features),\n",
    "    remainder=\"passthrough\"\n",
    ")"
   ]
  },
  {
   "cell_type": "markdown",
   "id": "efdf7bc3",
   "metadata": {},
   "source": [
    "We started with 2,835 features. Not all of those are going to be useful and including them can reduce the performance of the model. Also, we might overfit, where we'll do really well during training, but not generalize during testing/validation.\n",
    "\n",
    "To reduce the number of features, we have several options. Which one should we choose? 🤷‍ What we'll need to do is try a bunch and systematically see which one gave us the best results.\n",
    "\n",
    "[SelectKBest](https://scikit-learn.org/stable/modules/generated/sklearn.feature_selection.SelectKBest.html) retains the highest _k_ scoring features, using a selectable scoring algorithm. Since we are doing classification, we'll want to use chi2, f_classif, or mutual_info_classif. We could try all and see what works best, but for this notebook we'll just use f_classif. Similarly, we could select several _k_ values and see how they perform, but we'll just use 20."
   ]
  },
  {
   "cell_type": "code",
   "execution_count": 18,
   "id": "eb96292d",
   "metadata": {},
   "outputs": [
    {
     "name": "stdout",
     "output_type": "stream",
     "text": [
      "Fitting y1_train\n"
     ]
    },
    {
     "name": "stderr",
     "output_type": "stream",
     "text": [
      "/home/ec2-user/anaconda3/envs/python3/lib/python3.8/site-packages/sklearn/feature_selection/_univariate_selection.py:112: UserWarning: Features [   4    8   13   15   32   36   38   52   58   60   67   73   85   92\n",
      "  102  109  110  116  119  120  148  154  166  170  181  183  207  217\n",
      "  221  232  243  245  267  271  279  310  327  334  343  354  360  366\n",
      "  368  374  433  435  452  471  479  493  502  508  509  512  520  539\n",
      "  541  544  552  557  558  568  584  597  599  600  607  608  628  631\n",
      "  638  640  655  661  709  721  722  723  734  759  785  793  821  827\n",
      "  839  854  877  881  885  891  909  927  932  934  935  962  965  966\n",
      " 1008 1054 1059 1066 1067 1074 1086 1088 1093 1115 1134 1144 1170 1173\n",
      " 1182 1183 1196 1198 1201 1203 1213 1222 1228 1242 1252 1255 1262 1270\n",
      " 1272 1275 1283 1296 1298 1319 1326 1339 1350 1370 1414 1428 1443 1448\n",
      " 1456 1460 1481 1491 1517 1521 1522 1533 1545 1546 1551 1564 1569 1589\n",
      " 1592 1596 1609 1619 1699 1726 1731 1732 1734 1737 1758 1759 1771 1773\n",
      " 1783 1797 1803 1805 1833 1845 1847 1874 1906 1926 1942 1953 1958 1965\n",
      " 1974 1979 2003 2004 2012 2015 2018 2020 2032 2048 2067 2083 2090 2110\n",
      " 2114 2115 2134 2140 2141 2160 2167 2258 2260 2266 2268 2296 2316 2334\n",
      " 2337 2339 2350 2366 2382 2400 2408 2413 2417 2436 2463 2464 2469 2479\n",
      " 2486 2497 2501 2511 2527 2559 2564 2608 2612 2615 2616 2624 2637 2642\n",
      " 2646 2681 2688 2706 2721 2723 2737 2747 2753 2757 2763 2764 2768 2776\n",
      " 2808] are constant.\n",
      "  warnings.warn(\"Features %s are constant.\" % constant_features_idx, UserWarning)\n",
      "/home/ec2-user/anaconda3/envs/python3/lib/python3.8/site-packages/sklearn/feature_selection/_univariate_selection.py:113: RuntimeWarning: invalid value encountered in true_divide\n",
      "  f = msb / msw\n"
     ]
    },
    {
     "name": "stdout",
     "output_type": "stream",
     "text": [
      "Fitting y2_train\n"
     ]
    },
    {
     "name": "stderr",
     "output_type": "stream",
     "text": [
      "/home/ec2-user/anaconda3/envs/python3/lib/python3.8/site-packages/sklearn/feature_selection/_univariate_selection.py:112: UserWarning: Features [   4    8   13   15   32   36   38   52   58   60   67   73   85   92\n",
      "  102  109  110  116  119  120  148  154  166  170  181  183  207  217\n",
      "  221  232  243  245  267  271  279  310  327  334  343  354  360  366\n",
      "  368  374  433  435  452  471  479  493  502  508  509  512  520  539\n",
      "  541  544  552  557  558  568  584  597  599  600  607  608  628  631\n",
      "  638  640  655  661  709  721  722  723  734  759  785  793  821  827\n",
      "  839  854  877  881  885  891  909  927  932  934  935  962  965  966\n",
      " 1008 1054 1059 1066 1067 1074 1086 1088 1093 1115 1134 1144 1170 1173\n",
      " 1182 1183 1196 1198 1201 1203 1213 1222 1228 1242 1252 1255 1262 1270\n",
      " 1272 1275 1283 1296 1298 1319 1326 1339 1350 1370 1414 1428 1443 1448\n",
      " 1456 1460 1481 1491 1517 1521 1522 1533 1545 1546 1551 1564 1569 1589\n",
      " 1592 1596 1609 1619 1699 1726 1731 1732 1734 1737 1758 1759 1771 1773\n",
      " 1783 1797 1803 1805 1833 1845 1847 1874 1906 1926 1942 1953 1958 1965\n",
      " 1974 1979 2003 2004 2012 2015 2018 2020 2032 2048 2067 2083 2090 2110\n",
      " 2114 2115 2134 2140 2141 2160 2167 2258 2260 2266 2268 2296 2316 2334\n",
      " 2337 2339 2350 2366 2382 2400 2408 2413 2417 2436 2463 2464 2469 2479\n",
      " 2486 2497 2501 2511 2527 2559 2564 2608 2612 2615 2616 2624 2637 2642\n",
      " 2646 2681 2688 2706 2721 2723 2737 2747 2753 2757 2763 2764 2768 2776\n",
      " 2808] are constant.\n",
      "  warnings.warn(\"Features %s are constant.\" % constant_features_idx, UserWarning)\n",
      "/home/ec2-user/anaconda3/envs/python3/lib/python3.8/site-packages/sklearn/feature_selection/_univariate_selection.py:113: RuntimeWarning: invalid value encountered in true_divide\n",
      "  f = msb / msw\n"
     ]
    },
    {
     "name": "stdout",
     "output_type": "stream",
     "text": [
      "Fitting y3_train\n",
      "=== DONE ===\n",
      "  Elapsed time: 0:00:05.470653\n"
     ]
    },
    {
     "name": "stderr",
     "output_type": "stream",
     "text": [
      "/home/ec2-user/anaconda3/envs/python3/lib/python3.8/site-packages/sklearn/feature_selection/_univariate_selection.py:112: UserWarning: Features [   4    8   13   15   32   36   38   52   58   60   67   73   85   92\n",
      "  102  109  110  116  119  120  148  154  166  170  181  183  207  217\n",
      "  221  232  243  245  267  271  279  310  327  334  343  354  360  366\n",
      "  368  374  433  435  452  471  479  493  502  508  509  512  520  539\n",
      "  541  544  552  557  558  568  584  597  599  600  607  608  628  631\n",
      "  638  640  655  661  709  721  722  723  734  759  785  793  821  827\n",
      "  839  854  877  881  885  891  909  927  932  934  935  962  965  966\n",
      " 1008 1054 1059 1066 1067 1074 1086 1088 1093 1115 1134 1144 1170 1173\n",
      " 1182 1183 1196 1198 1201 1203 1213 1222 1228 1242 1252 1255 1262 1270\n",
      " 1272 1275 1283 1296 1298 1319 1326 1339 1350 1370 1414 1428 1443 1448\n",
      " 1456 1460 1481 1491 1517 1521 1522 1533 1545 1546 1551 1564 1569 1589\n",
      " 1592 1596 1609 1619 1699 1726 1731 1732 1734 1737 1758 1759 1771 1773\n",
      " 1783 1797 1803 1805 1833 1845 1847 1874 1906 1926 1942 1953 1958 1965\n",
      " 1974 1979 2003 2004 2012 2015 2018 2020 2032 2048 2067 2083 2090 2110\n",
      " 2114 2115 2134 2140 2141 2160 2167 2258 2260 2266 2268 2296 2316 2334\n",
      " 2337 2339 2350 2366 2382 2400 2408 2413 2417 2436 2463 2464 2469 2479\n",
      " 2486 2497 2501 2511 2527 2559 2564 2608 2612 2615 2616 2624 2637 2642\n",
      " 2646 2681 2688 2706 2721 2723 2737 2747 2753 2757 2763 2764 2768 2776\n",
      " 2808] are constant.\n",
      "  warnings.warn(\"Features %s are constant.\" % constant_features_idx, UserWarning)\n",
      "/home/ec2-user/anaconda3/envs/python3/lib/python3.8/site-packages/sklearn/feature_selection/_univariate_selection.py:113: RuntimeWarning: invalid value encountered in true_divide\n",
      "  f = msb / msw\n"
     ]
    }
   ],
   "source": [
    "from sklearn.feature_selection import SelectKBest, mutual_info_regression, chi2, f_classif\n",
    "from datetime import datetime\n",
    "skb_20 = {}\n",
    "now = datetime.now()\n",
    "for count in [1,2,3]:\n",
    "    selector = SelectKBest(f_classif, k=20)\n",
    "    y = f\"y{count}_train\"\n",
    "    print(f\"Fitting {y}\")\n",
    "    pipe = make_pipeline(col_transformer, SelectKBest(f_classif, k=20))\n",
    "    pipe.fit(X_train, eval(y))\n",
    "    skb_20[y] = pipe.get_feature_names_out()\n",
    "print(\"=== DONE ===\")\n",
    "print(f\"  Elapsed time: {datetime.now() - now}\")"
   ]
  },
  {
   "cell_type": "code",
   "execution_count": 19,
   "id": "f772f94c",
   "metadata": {},
   "outputs": [
    {
     "data": {
      "text/plain": [
       "{'y1_train': array(['pipeline-1__segment___TEXT___objc_methlist',\n",
       "        'pipeline-1__/System/Library/Frameworks/Foundation.framework/Versions/C/Foundation',\n",
       "        'pipeline-1__segment___TEXT_nsects',\n",
       "        'pipeline-1__segment___DATA_CONST_nsects',\n",
       "        'pipeline-1__segment___DATA_CONST___const',\n",
       "        'pipeline-1__segment___DATA_CONST___objc_imageinfo',\n",
       "        'pipeline-1__segment___TEXT___objc_methname',\n",
       "        'pipeline-1__segment___DATA___objc_const',\n",
       "        'pipeline-1__segment___TEXT_size',\n",
       "        'pipeline-1__/usr/lib/libobjc.A.dylib',\n",
       "        'pipeline-1__segment___DATA_CONST___got',\n",
       "        'pipeline-1__segment___DATA_CONST___objc_protolist',\n",
       "        'pipeline-1__segment___DATA_CONST_size',\n",
       "        'pipeline-1____DATA_CONST', 'pipeline-1__slcs',\n",
       "        'pipeline-1__segment___DATA_CONST___objc_classlist',\n",
       "        'pipeline-2__segment___DATA_CONST_initprot_',\n",
       "        'pipeline-2__segment___DATA_CONST_initprot_rw-',\n",
       "        'pipeline-2__segment___DATA_CONST_maxprot_',\n",
       "        'pipeline-2__segment___DATA_CONST_maxprot_rw-'], dtype=object),\n",
       " 'y2_train': array(['pipeline-1__segment___TEXT___cstring',\n",
       "        'pipeline-1__flag_DYLDLINK', 'pipeline-1__segment___TEXT_nsects',\n",
       "        'pipeline-1__segment___TEXT___text',\n",
       "        'pipeline-1__segment___DATA___la_symbol_ptr',\n",
       "        'pipeline-1__segment___TEXT_size',\n",
       "        'pipeline-1__segment___TEXT___stubs',\n",
       "        'pipeline-1__/usr/lib/libSystem.B.dylib',\n",
       "        'pipeline-1__segment___TEXT___unwind_info',\n",
       "        'pipeline-1__num_segments', 'pipeline-1__flag_TWOLEVEL',\n",
       "        'pipeline-1__segment___DATA___data', 'pipeline-1____DATA',\n",
       "        'pipeline-1__segment___TEXT_upxTEXT',\n",
       "        'pipeline-1__segment___TEXT___const',\n",
       "        'pipeline-1__segment___TEXT___stub_helper',\n",
       "        'pipeline-2__segment___DATA_initprot_',\n",
       "        'pipeline-2__segment___DATA_initprot_rw-',\n",
       "        'pipeline-2__segment___DATA_maxprot_',\n",
       "        'remainder__segment___LINKEDIT_entropy'], dtype=object),\n",
       " 'y3_train': array(['pipeline-1__segment___TEXT___cstring',\n",
       "        'pipeline-1__flag_DYLDLINK', 'pipeline-1__segment___TEXT___text',\n",
       "        'pipeline-1__segment___DATA___bss',\n",
       "        'pipeline-1__segment___DATA___la_symbol_ptr',\n",
       "        'pipeline-1__segment___TEXT___stubs',\n",
       "        'pipeline-1__/usr/lib/libSystem.B.dylib',\n",
       "        'pipeline-1__segment___TEXT___unwind_info',\n",
       "        'pipeline-1__segment___DATA_nsects', 'pipeline-1__flag_TWOLEVEL',\n",
       "        'pipeline-1__segment___DATA_size',\n",
       "        'pipeline-1__segment___DATA___data', 'pipeline-1____DATA',\n",
       "        'pipeline-1__segment___TEXT_upxTEXT',\n",
       "        'pipeline-1__segment___TEXT___const',\n",
       "        'pipeline-1__segment___TEXT___stub_helper',\n",
       "        'pipeline-2__segment___DATA_initprot_',\n",
       "        'pipeline-2__segment___DATA_initprot_rw-',\n",
       "        'pipeline-2__segment___DATA_maxprot_',\n",
       "        'remainder__segment___LINKEDIT_entropy'], dtype=object)}"
      ]
     },
     "execution_count": 19,
     "metadata": {},
     "output_type": "execute_result"
    }
   ],
   "source": [
    "skb_20"
   ]
  },
  {
   "cell_type": "markdown",
   "id": "c4c58590",
   "metadata": {},
   "source": [
    "[Principal Component Analysis](https://scikit-learn.org/stable/modules/generated/sklearn.decomposition.PCA.html?) is not strictly feature selection, but it reduces dimensionality. We can select _k_ number of components or provide with a float to represent the percentage of variance we want to select. Using 0.95 in this case will drop us down to 258 features."
   ]
  },
  {
   "cell_type": "code",
   "execution_count": 20,
   "id": "a095a5c6",
   "metadata": {},
   "outputs": [
    {
     "name": "stdout",
     "output_type": "stream",
     "text": [
      "Fitting y1_train\n",
      "Fitting y2_train\n",
      "Fitting y3_train\n",
      "=== DONE ===\n",
      "  Elapsed time: 0:00:38.916506\n"
     ]
    }
   ],
   "source": [
    "from sklearn.decomposition import PCA\n",
    "pca = {}\n",
    "now = datetime.now()\n",
    "for count in [1,2,3]:\n",
    "    selector = PCA(.95)\n",
    "    y = f\"y{count}_train\"\n",
    "    print(f\"Fitting {y}\")\n",
    "    pipe = make_pipeline(col_transformer, selector)\n",
    "    X_train_pca = pipe.fit_transform(X_train)\n",
    "    n_pcs = pipe.named_steps['pca'].components_.shape[0]\n",
    "    most_important = [np.abs(pipe.named_steps['pca'].components_[i]).argmax() for i in range(n_pcs)]\n",
    "    pca[y] = [X_train.columns[most_important[i]] for i in range(n_pcs)]\n",
    "print(\"=== DONE ===\")\n",
    "print(f\"  Elapsed time: {datetime.now() - now}\")"
   ]
  },
  {
   "cell_type": "markdown",
   "id": "39214d2d",
   "metadata": {},
   "source": [
    "[SelectFromModel](https://scikit-learn.org/stable/modules/generated/sklearn.feature_selection.SelectFromModel.html) uses an estimator to determine the importance of each feature. We can use a few different estimators (including Random Forest) but we'll use Extra Trees. Using one of these estimators will discard irrelevant features."
   ]
  },
  {
   "cell_type": "code",
   "execution_count": 21,
   "id": "5cf544fd",
   "metadata": {},
   "outputs": [
    {
     "name": "stdout",
     "output_type": "stream",
     "text": [
      "Fitting y1_train\n",
      "Fitting y2_train\n",
      "Fitting y3_train\n",
      "=== DONE ===\n",
      "  Elapsed time: 0:00:15.606336\n"
     ]
    }
   ],
   "source": [
    "from sklearn.ensemble import ExtraTreesClassifier\n",
    "from sklearn.feature_selection import SelectFromModel\n",
    "clf = ExtraTreesClassifier()\n",
    "sfm_best = {}\n",
    "now = datetime.now()\n",
    "for count in [1,2,3]:\n",
    "    y = f\"y{count}_train\"\n",
    "    print(f\"Fitting {y}\")\n",
    "    pipe = make_pipeline(col_transformer, ExtraTreesClassifier())\n",
    "    pipe.fit(X_train, eval(y))\n",
    "    pipe.named_steps['extratreesclassifier'].feature_importances_\n",
    "    clf = pipe.named_steps['extratreesclassifier']\n",
    "    newpipe = make_pipeline(col_transformer, SelectFromModel(clf, prefit=True, max_features=20))\n",
    "    newpipe.transform(X_train)    \n",
    "    sfm_best[y] = newpipe.get_feature_names_out()\n",
    "print(\"=== DONE ===\")\n",
    "print(f\"  Elapsed time: {datetime.now() - now}\")"
   ]
  },
  {
   "cell_type": "code",
   "execution_count": 22,
   "id": "aef1bd81",
   "metadata": {},
   "outputs": [
    {
     "data": {
      "text/plain": [
       "{'y1_train': array(['pipeline-1__segment___TEXT_vmsize',\n",
       "        'pipeline-1__segment___TEXT___objc_methlist',\n",
       "        'pipeline-1__/System/Library/Frameworks/AppKit.framework/Versions/C/AppKit',\n",
       "        'pipeline-1__/System/Library/Frameworks/Foundation.framework/Versions/C/Foundation',\n",
       "        'pipeline-1__segment___DATA_CONST___const', 'pipeline-1__size',\n",
       "        'pipeline-1__segment___DATA___objc_const',\n",
       "        'pipeline-1__segment___TEXT_size',\n",
       "        'pipeline-1__segment___DATA_CONST___got',\n",
       "        'pipeline-1__/System/Library/Frameworks/CFNetwork.framework/Versions/A/CFNetwork',\n",
       "        'pipeline-1__segment___DATA_CONST_size',\n",
       "        'pipeline-1__flag_NOREEXPORTED_DYLIBS', 'pipeline-1____DATA_CONST',\n",
       "        'pipeline-1____PAGEZERO',\n",
       "        'pipeline-1__segment___DATA_CONST___objc_classlist',\n",
       "        'pipeline-2__segment___DATA_CONST_initprot_',\n",
       "        'pipeline-2__segment___DATA_CONST_maxprot_',\n",
       "        'pipeline-2__segment___DATA_CONST_maxprot_rw-',\n",
       "        'remainder__segment___TEXT_entropy', 'remainder__entropy'],\n",
       "       dtype=object),\n",
       " 'y2_train': array(['pipeline-1__segment___TEXT___cstring',\n",
       "        'pipeline-1__flag_DYLDLINK', 'pipeline-1__segment___TEXT___text',\n",
       "        'pipeline-1__segment___TEXT_size',\n",
       "        'pipeline-1__segment___TEXT___stubs',\n",
       "        'pipeline-1__/usr/lib/libSystem.B.dylib',\n",
       "        'pipeline-1__segment___TEXT___unwind_info',\n",
       "        'pipeline-1__flag_TWOLEVEL', 'pipeline-1__segment___DATA___data',\n",
       "        'pipeline-1__segment___TEXT_upxTEXT',\n",
       "        'pipeline-1__segment___TEXT___const',\n",
       "        'pipeline-1__segment___TEXT___stub_helper',\n",
       "        'pipeline-2__segment___DATA_initprot_',\n",
       "        'pipeline-2__segment___DATA_initprot_rw-',\n",
       "        'pipeline-2__segment___TEXT_maxprot_r-x',\n",
       "        'pipeline-2__segment___TEXT_maxprot_rwx',\n",
       "        'pipeline-2__segment___DATA_maxprot_',\n",
       "        'pipeline-2__segment___DATA_maxprot_rw-', 'remainder__entropy',\n",
       "        'remainder__segment___LINKEDIT_entropy'], dtype=object),\n",
       " 'y3_train': array(['pipeline-1__segment___TEXT___cstring',\n",
       "        'pipeline-1__flag_DYLDLINK', 'pipeline-1__segment___TEXT_vmsize',\n",
       "        'pipeline-1__segment___TEXT___text', 'pipeline-1__size',\n",
       "        'pipeline-1__segment___DATA___la_symbol_ptr',\n",
       "        'pipeline-1__/usr/lib/libSystem.B.dylib',\n",
       "        'pipeline-1__segment___TEXT___unwind_info',\n",
       "        'pipeline-1__segment___DATA_nsects', 'pipeline-1__flag_TWOLEVEL',\n",
       "        'pipeline-1__segment___DATA_size',\n",
       "        'pipeline-1__segment___DATA___data', 'pipeline-1____DATA',\n",
       "        'pipeline-1__segment___TEXT_upxTEXT',\n",
       "        'pipeline-1__segment___TEXT___stub_helper',\n",
       "        'pipeline-2__segment___DATA_initprot_',\n",
       "        'pipeline-2__segment___DATA_initprot_rw-',\n",
       "        'remainder__segment___TEXT_entropy', 'remainder__entropy',\n",
       "        'remainder__segment___LINKEDIT_entropy'], dtype=object)}"
      ]
     },
     "execution_count": 22,
     "metadata": {},
     "output_type": "execute_result"
    }
   ],
   "source": [
    "sfm_best"
   ]
  },
  {
   "cell_type": "markdown",
   "id": "48271abb",
   "metadata": {},
   "source": [
    "[Sequential Feature Selector](https://scikit-learn.org/stable/modules/generated/sklearn.feature_selection.SequentialFeatureSelector.html) will either add or remove features based on a cross-validated score. We'll use forward selection since we want 20/2835 features. If we wanted, for example, 20/25 features we'd use backward selection. Note that this is the slowest feature selection method, in part due to the SVC estimator."
   ]
  },
  {
   "cell_type": "code",
   "execution_count": null,
   "id": "f1a153c5",
   "metadata": {},
   "outputs": [
    {
     "name": "stdout",
     "output_type": "stream",
     "text": [
      "Fitting y1_train\n",
      "Fitting y2_train\n"
     ]
    }
   ],
   "source": [
    "from sklearn.svm import SVC\n",
    "from sklearn.feature_selection import SequentialFeatureSelector\n",
    "svm = SVC()\n",
    "sfs = SequentialFeatureSelector(svm, n_features_to_select=20, n_jobs=-1)\n",
    "sfs_best = {}\n",
    "now = datetime.now()\n",
    "for count in [1,2,3]:\n",
    "    y = f\"y{count}_train\"\n",
    "    print(f\"Fitting {y}\")\n",
    "    pipe = make_pipeline(col_transformer, sfs)\n",
    "    pipe.fit(X_train, eval(y))\n",
    "    sfs_best[y] = pipe.get_feature_names_out()\n",
    "print(\"=== DONE ===\")\n",
    "print(f\"  Elapsed time: {datetime.now() - now}\")"
   ]
  },
  {
   "cell_type": "code",
   "execution_count": 24,
   "id": "90813f6d",
   "metadata": {},
   "outputs": [
    {
     "data": {
      "text/plain": [
       "{'y1_train': array(['pipeline-1__@rpath/ENAttachmentToPDF.framework/Versions/A/ENAttachmentToPDF',\n",
       "        'pipeline-1__dylib_@rpath/Assets.framework/Assets_imports',\n",
       "        'pipeline-1__@rpath/TrustUI.framework/TrustUI',\n",
       "        'pipeline-1__dylib_@rpath/TrustAPI.framework/TrustAPI_imports',\n",
       "        'pipeline-1__segment___DWARF_vmsize',\n",
       "        'pipeline-1__dylib_@rpath/libcrypto.dylib_imports',\n",
       "        'pipeline-1__dylib_@rpath/Signer.framework/Signer_imports',\n",
       "        'pipeline-1__@loader_path/../../../../../../../libavdevice.58.dylib',\n",
       "        'pipeline-1__@rpath/libssl.dylib',\n",
       "        'pipeline-1__@rpath/Sentry.framework/Sentry',\n",
       "        'pipeline-1__dylib_@rpath/PromiseKit.framework/PromiseKit_imports',\n",
       "        'pipeline-1__dylib_@rpath/widevine_cdm_secured_ios.framework/widevine_cdm_secured_ios_imports',\n",
       "        'pipeline-1__@rpath/libplist.3.dylib',\n",
       "        'pipeline-1__segment___DATA_CONST_nsects',\n",
       "        'pipeline-1__/System/Library/Frameworks/CoreGraphics.framework/Versions/A/CoreGraphics',\n",
       "        'pipeline-1__dylib_/System/Library/Frameworks/AppKit.framework/Versions/C/AppKit_imports',\n",
       "        'pipeline-1__flag_NOREEXPORTED_DYLIBS',\n",
       "        'pipeline-1__dylib_@rpath/Electron Framework.framework/Electron Framework_imports',\n",
       "        'pipeline-1__dylib_@loader_path/libuno_cppu.dylib.3_imports',\n",
       "        'pipeline-1__dylib_/System/Library/Frameworks/Cocoa.framework/Versions/A/Cocoa_imports'],\n",
       "       dtype=object),\n",
       " 'y2_train': array(['pipeline-1__@rpath/SyncSupport.framework/Versions/A/SyncSupport',\n",
       "        'pipeline-1__@rpath/Kira.framework/Versions/A/Kira',\n",
       "        'pipeline-1____LLVM',\n",
       "        'pipeline-1__dylib_@rpath/MAMusicAnalysis.framework/Versions/A/MAMusicAnalysis_imports',\n",
       "        'pipeline-1__@rpath/ENAttachmentToPDF.framework/Versions/A/ENAttachmentToPDF',\n",
       "        'pipeline-1__dylib_@executable_path/libx264.163.dylib_imports',\n",
       "        'pipeline-1__@rpath/ReactiveObjC.framework/ReactiveObjC',\n",
       "        'pipeline-1__dylib_@rpath/Assets.framework/Assets_imports',\n",
       "        'pipeline-1__dylib_@rpath/SwiftyXMLParser.framework/Versions/A/SwiftyXMLParser_imports',\n",
       "        'pipeline-1__/usr/lib/swift/libswiftSafariServices.dylib',\n",
       "        'pipeline-1__dylib_/System/Library/Frameworks/Foundation.framework/Foundation_imports',\n",
       "        'pipeline-1__dylib_@rpath/CocoaLumberjackSwift.framework/Versions/A/CocoaLumberjackSwift_imports',\n",
       "        'pipeline-1__@rpath/TrustUI.framework/TrustUI',\n",
       "        'pipeline-1__/System/Library/Frameworks/CoreGraphics.framework/CoreGraphics',\n",
       "        'pipeline-1__dylib_@rpath/TrustAPI.framework/TrustAPI_imports',\n",
       "        'pipeline-1__@executable_path/../Frameworks/libncurses.5.4.dylib',\n",
       "        'pipeline-1__dylib_@rpath/FriendlyDIKit.framework/Versions/A/FriendlyDIKit_imports',\n",
       "        'pipeline-1__@rpath/QtWebEngine.framework/Versions/5/QtWebEngine',\n",
       "        'pipeline-1__dylib_@rpath/ProtobufLite.framework/Versions/A/ProtobufLite_imports',\n",
       "        'pipeline-1__segment___TEXT___text'], dtype=object),\n",
       " 'y3_train': array(['pipeline-1__@rpath/SyncSupport.framework/Versions/A/SyncSupport',\n",
       "        'pipeline-1__@rpath/Kira.framework/Versions/A/Kira',\n",
       "        'pipeline-1____LLVM',\n",
       "        'pipeline-1__@rpath/ENAttachmentToPDF.framework/Versions/A/ENAttachmentToPDF',\n",
       "        'pipeline-1__@rpath/ReactiveObjC.framework/ReactiveObjC',\n",
       "        'pipeline-1__dylib_@rpath/Assets.framework/Assets_imports',\n",
       "        'pipeline-1__dylib_@rpath/SwiftyXMLParser.framework/Versions/A/SwiftyXMLParser_imports',\n",
       "        'pipeline-1__@rpath/TrustUI.framework/TrustUI',\n",
       "        'pipeline-1__dylib_@rpath/TrustAPI.framework/TrustAPI_imports',\n",
       "        'pipeline-1__segment___DWARF_vmsize',\n",
       "        'pipeline-1__dylib_@rpath/libcrypto.dylib_imports',\n",
       "        'pipeline-1__dylib_@rpath/Signer.framework/Signer_imports',\n",
       "        'pipeline-1__@loader_path/libuno_sal.dylib.3',\n",
       "        'pipeline-1__segment___TEXT_vmsize',\n",
       "        'pipeline-1__@rpath/libsqlite3.0.dylib',\n",
       "        'pipeline-1__segment___TEXT___text',\n",
       "        'pipeline-1__@rpath/Nuance-OmniPage-CSDK-RunTime.framework/Versions/A/Libraries/libkernelapi.dylib',\n",
       "        'pipeline-1__segment___DATA___mod_term_func',\n",
       "        'pipeline-1__segment___DATA___data', 'pipeline-1__nlcs'],\n",
       "       dtype=object)}"
      ]
     },
     "execution_count": 24,
     "metadata": {},
     "output_type": "execute_result"
    }
   ],
   "source": [
    "sfs_best"
   ]
  },
  {
   "cell_type": "code",
   "execution_count": 25,
   "id": "c6cce8af",
   "metadata": {},
   "outputs": [],
   "source": [
    "# The selected features were given back to us with prepended text\n",
    "# We need to remove that text when we access the features in X_train\n",
    "def strip_items(item):\n",
    "    stripped_item = item.replace('pipeline-1__','').replace('pipeline-2__','').replace('remainder__','')\n",
    "    if stripped_item not in df.columns:\n",
    "        stripped_item = '_'.join(stripped_item.split('_')[:-1])\n",
    "    return stripped_item"
   ]
  },
  {
   "cell_type": "markdown",
   "id": "aeaa73ca",
   "metadata": {},
   "source": [
    "Now that we have our features, we will combine them into a dictionary so we can iterate them during training."
   ]
  },
  {
   "cell_type": "code",
   "execution_count": 26,
   "id": "02a6c42f",
   "metadata": {},
   "outputs": [],
   "source": [
    "selected_features = {}\n",
    "\n",
    "selected_features['SelectKBest'] = {}\n",
    "for key in skb_20.keys():\n",
    "    selected_features['SelectKBest'][key] = [strip_items(item) for item in skb_20[key].tolist()]\n",
    "\n",
    "selected_features['ForwardSelection'] = {}\n",
    "for key in sfs_best.keys():\n",
    "    selected_features['ForwardSelection'][key] = [strip_items(item) for item in sfs_best[key].tolist()]\n",
    "\n",
    "selected_features['PCA'] = pca\n",
    "\n",
    "selected_features['SelectFromModel'] = {}\n",
    "for key in sfm_best.keys():\n",
    "    selected_features['SelectFromModel'][key] = [strip_items(item) for item in sfm_best[key].tolist()]"
   ]
  },
  {
   "cell_type": "code",
   "execution_count": 27,
   "id": "b66693c0",
   "metadata": {},
   "outputs": [],
   "source": [
    "# We see \"Unnamed: 0\" index values if we've loaded from CSV, so remove them\n",
    "for k,v in selected_features.items():\n",
    "    for k2,v2 in selected_features[k].items():\n",
    "        if 'Unnamed: 0' in v2:\n",
    "            v2.remove('Unnamed: 0')"
   ]
  },
  {
   "cell_type": "code",
   "execution_count": 28,
   "id": "ea2bf826",
   "metadata": {},
   "outputs": [],
   "source": [
    "class NumpyEncoder(json.JSONEncoder):\n",
    "    \"\"\" Special json encoder for numpy types \"\"\"\n",
    "    def default(self, obj):\n",
    "        if isinstance(obj, (np.int_, np.intc, np.intp, np.int8,\n",
    "                            np.int16, np.int32, np.int64, np.uint8,\n",
    "                            np.uint16, np.uint32, np.uint64)):\n",
    "            return int(obj)\n",
    "        elif isinstance(obj, (np.float_, np.float16, np.float32,\n",
    "                              np.float64)):\n",
    "            return float(obj)\n",
    "        elif isinstance(obj, (np.ndarray,)):\n",
    "            return obj.tolist()\n",
    "        return json.JSONEncoder.default(self, obj)\n",
    "\n",
    "with open('selected_features.json','w') as f:\n",
    "    f.write(json.dumps(selected_features, cls=NumpyEncoder))"
   ]
  },
  {
   "cell_type": "markdown",
   "id": "12f0d574",
   "metadata": {},
   "source": [
    "# Hyper Parameter Optimization\n",
    "[GridSearchCV](https://scikit-learn.org/stable/modules/generated/sklearn.model_selection.GridSearchCV.html) is used to find the best model hyperparameters, the parameters not learned by the estimator. We pass it the estimator, a parameter grid, how to score the results, and how to refit.\n",
    "\n",
    "The estimator is the algorithm that we want to optimize hyperparameters for.  \n",
    "The parameter grid is the hyperparameter names and their values that will be searched. For Random Forest, those hyperparameters are:\n",
    "* criterion, which specifies the split quality measurement\n",
    "* max_depth, which determines the maximum depth of the tree\n",
    "* max_features, which determines the maximum number of features at each split\n",
    "* n_estimators, which determines the number of trees to create\n",
    "* min_samples_split, which determines the minimum samples required to split a node\n",
    "\n",
    "The scoring is one or more methods of scoring the output. We have accuracy, recall, precision, and F1.\n",
    "* accuracy = (TP + TN) / (TP + FP + TN + FN)\n",
    "* recall = TP / (TP + FN)\n",
    "* precision = TP / (TP + FP)\n",
    "* F1 = 2 * ((precision * recall) / (precision + recall))\n",
    "\n",
    "The refit will use the entire dataset and the provided scorer to determine the overall winning combination.\n",
    "\n",
    "By default, we will do 5-fold cross validation. X_train will be split into 5 folds. Four will be used as training and one will be used for testing. At each fold, the test group will change.  \n",
    "<img src=\"images/cross_validation.png\" alt=\"5 fold cross validation\" width=\"400\"/>\n",
    "\n",
    "We're going to run these hyperparameter searches across each problem (malware, packed, packed malware) and for each set of selected features. At the end, we'll have models that we can run that are highly tuned to solving each of those problems."
   ]
  },
  {
   "cell_type": "code",
   "execution_count": 30,
   "id": "ac785780",
   "metadata": {},
   "outputs": [
    {
     "name": "stdout",
     "output_type": "stream",
     "text": [
      "=== DONE ===\n",
      "  Elapsed time: 0:19:05.234268\n"
     ]
    }
   ],
   "source": [
    "from datetime import datetime\n",
    "from sklearn.model_selection import GridSearchCV\n",
    "from sklearn.ensemble import RandomForestClassifier\n",
    "from sklearn.metrics import f1_score, make_scorer, precision_score, recall_score, accuracy_score\n",
    "now = datetime.now()\n",
    "\n",
    "SCORING = {\n",
    "    'f1_score': make_scorer(f1_score, average='micro'),\n",
    "    'precision_score': make_scorer(precision_score, average='micro'),\n",
    "    'recall_score': make_scorer(recall_score, average='micro'),\n",
    "    'accuracy_score': make_scorer(accuracy_score)\n",
    "}\n",
    "params = {\n",
    "    'criterion': ['gini', 'entropy'],\n",
    "    'max_depth': range(4,8),\n",
    "    'max_features': ['sqrt', 'log2'],\n",
    "    'n_estimators': range(100,500,100),\n",
    "    'min_samples_split': range(2,5)\n",
    "}\n",
    "\n",
    "rfc_hyper = {}\n",
    "for count in [1,2,3]:\n",
    "    clf = GridSearchCV(RandomForestClassifier(), params, n_jobs=-1, scoring=SCORING, refit='f1_score')\n",
    "    for k in selected_features.keys():\n",
    "        rfc_y = f\"y{count}_{k}\"\n",
    "        y = f'y{count}_train'\n",
    "        features = list(set(selected_features[k][y]))\n",
    "        nf = X_train[features].select_dtypes('int', 'float').columns\n",
    "        cf = X_train[features].select_dtypes('string').columns\n",
    "        ct = make_column_transformer(\n",
    "            (numeric_transformer, nf),\n",
    "            (categorical_transformer, cf),\n",
    "            remainder=\"passthrough\"\n",
    "        )\n",
    "        pipe = make_pipeline(ct, clf)\n",
    "        pipe.fit(X_train[features], eval(y))\n",
    "        rfc_hyper[rfc_y] = pipe.named_steps['gridsearchcv'].best_params_\n",
    "        rfc_hyper[rfc_y]['score'] = pipe.named_steps['gridsearchcv'].best_score_\n",
    "        rfc_hyper[rfc_y]['features'] = features\n",
    "    \n",
    "print(\"=== DONE ===\")\n",
    "print(f\"  Elapsed time: {datetime.now() - now}\")"
   ]
  },
  {
   "cell_type": "code",
   "execution_count": 32,
   "id": "518f6411",
   "metadata": {},
   "outputs": [
    {
     "data": {
      "text/html": [
       "<div>\n",
       "<style scoped>\n",
       "    .dataframe tbody tr th:only-of-type {\n",
       "        vertical-align: middle;\n",
       "    }\n",
       "\n",
       "    .dataframe tbody tr th {\n",
       "        vertical-align: top;\n",
       "    }\n",
       "\n",
       "    .dataframe thead th {\n",
       "        text-align: right;\n",
       "    }\n",
       "</style>\n",
       "<table border=\"1\" class=\"dataframe\">\n",
       "  <thead>\n",
       "    <tr style=\"text-align: right;\">\n",
       "      <th></th>\n",
       "      <th>criterion</th>\n",
       "      <th>max_depth</th>\n",
       "      <th>max_features</th>\n",
       "      <th>min_samples_split</th>\n",
       "      <th>n_estimators</th>\n",
       "      <th>score</th>\n",
       "      <th>features</th>\n",
       "    </tr>\n",
       "  </thead>\n",
       "  <tbody>\n",
       "    <tr>\n",
       "      <th>y2_SelectKBest</th>\n",
       "      <td>gini</td>\n",
       "      <td>4</td>\n",
       "      <td>sqrt</td>\n",
       "      <td>2</td>\n",
       "      <td>100</td>\n",
       "      <td>1.000000</td>\n",
       "      <td>[segment___LINKEDIT_entropy, segment___TEXT___...</td>\n",
       "    </tr>\n",
       "    <tr>\n",
       "      <th>y2_ForwardSelection</th>\n",
       "      <td>gini</td>\n",
       "      <td>4</td>\n",
       "      <td>sqrt</td>\n",
       "      <td>2</td>\n",
       "      <td>100</td>\n",
       "      <td>1.000000</td>\n",
       "      <td>[@rpath/SyncSupport.framework/Versions/A/SyncS...</td>\n",
       "    </tr>\n",
       "    <tr>\n",
       "      <th>y2_SelectFromModel</th>\n",
       "      <td>gini</td>\n",
       "      <td>4</td>\n",
       "      <td>sqrt</td>\n",
       "      <td>2</td>\n",
       "      <td>100</td>\n",
       "      <td>1.000000</td>\n",
       "      <td>[entropy, segment___LINKEDIT_entropy, segment_...</td>\n",
       "    </tr>\n",
       "    <tr>\n",
       "      <th>y2_PCA</th>\n",
       "      <td>gini</td>\n",
       "      <td>7</td>\n",
       "      <td>sqrt</td>\n",
       "      <td>4</td>\n",
       "      <td>400</td>\n",
       "      <td>0.997863</td>\n",
       "      <td>[@rpath/JNWScrollView.framework/Versions/A/JNW...</td>\n",
       "    </tr>\n",
       "    <tr>\n",
       "      <th>y3_SelectFromModel</th>\n",
       "      <td>entropy</td>\n",
       "      <td>7</td>\n",
       "      <td>log2</td>\n",
       "      <td>4</td>\n",
       "      <td>400</td>\n",
       "      <td>0.963307</td>\n",
       "      <td>[segment___LINKEDIT_entropy, segment___TEXT___...</td>\n",
       "    </tr>\n",
       "    <tr>\n",
       "      <th>y3_ForwardSelection</th>\n",
       "      <td>gini</td>\n",
       "      <td>7</td>\n",
       "      <td>sqrt</td>\n",
       "      <td>3</td>\n",
       "      <td>100</td>\n",
       "      <td>0.960102</td>\n",
       "      <td>[@rpath/SyncSupport.framework/Versions/A/SyncS...</td>\n",
       "    </tr>\n",
       "    <tr>\n",
       "      <th>y3_SelectKBest</th>\n",
       "      <td>gini</td>\n",
       "      <td>7</td>\n",
       "      <td>sqrt</td>\n",
       "      <td>4</td>\n",
       "      <td>100</td>\n",
       "      <td>0.950839</td>\n",
       "      <td>[segment___LINKEDIT_entropy, segment___TEXT___...</td>\n",
       "    </tr>\n",
       "    <tr>\n",
       "      <th>y3_PCA</th>\n",
       "      <td>gini</td>\n",
       "      <td>7</td>\n",
       "      <td>sqrt</td>\n",
       "      <td>2</td>\n",
       "      <td>200</td>\n",
       "      <td>0.944785</td>\n",
       "      <td>[@rpath/JNWScrollView.framework/Versions/A/JNW...</td>\n",
       "    </tr>\n",
       "    <tr>\n",
       "      <th>y1_ForwardSelection</th>\n",
       "      <td>entropy</td>\n",
       "      <td>6</td>\n",
       "      <td>sqrt</td>\n",
       "      <td>2</td>\n",
       "      <td>200</td>\n",
       "      <td>0.910226</td>\n",
       "      <td>[flag_NOREEXPORTED_DYLIBS, @rpath/libplist.3.d...</td>\n",
       "    </tr>\n",
       "    <tr>\n",
       "      <th>y1_SelectFromModel</th>\n",
       "      <td>gini</td>\n",
       "      <td>7</td>\n",
       "      <td>log2</td>\n",
       "      <td>4</td>\n",
       "      <td>200</td>\n",
       "      <td>0.898471</td>\n",
       "      <td>[flag_NOREEXPORTED_DYLIBS, segment___TEXT_vmsi...</td>\n",
       "    </tr>\n",
       "    <tr>\n",
       "      <th>y1_SelectKBest</th>\n",
       "      <td>gini</td>\n",
       "      <td>7</td>\n",
       "      <td>log2</td>\n",
       "      <td>2</td>\n",
       "      <td>200</td>\n",
       "      <td>0.874245</td>\n",
       "      <td>[__DATA_CONST, segment___DATA___objc_const, se...</td>\n",
       "    </tr>\n",
       "    <tr>\n",
       "      <th>y1_PCA</th>\n",
       "      <td>gini</td>\n",
       "      <td>7</td>\n",
       "      <td>sqrt</td>\n",
       "      <td>3</td>\n",
       "      <td>300</td>\n",
       "      <td>0.858922</td>\n",
       "      <td>[@rpath/JNWScrollView.framework/Versions/A/JNW...</td>\n",
       "    </tr>\n",
       "  </tbody>\n",
       "</table>\n",
       "</div>"
      ],
      "text/plain": [
       "                    criterion  max_depth max_features  min_samples_split  \\\n",
       "y2_SelectKBest           gini          4         sqrt                  2   \n",
       "y2_ForwardSelection      gini          4         sqrt                  2   \n",
       "y2_SelectFromModel       gini          4         sqrt                  2   \n",
       "y2_PCA                   gini          7         sqrt                  4   \n",
       "y3_SelectFromModel    entropy          7         log2                  4   \n",
       "y3_ForwardSelection      gini          7         sqrt                  3   \n",
       "y3_SelectKBest           gini          7         sqrt                  4   \n",
       "y3_PCA                   gini          7         sqrt                  2   \n",
       "y1_ForwardSelection   entropy          6         sqrt                  2   \n",
       "y1_SelectFromModel       gini          7         log2                  4   \n",
       "y1_SelectKBest           gini          7         log2                  2   \n",
       "y1_PCA                   gini          7         sqrt                  3   \n",
       "\n",
       "                     n_estimators     score  \\\n",
       "y2_SelectKBest                100  1.000000   \n",
       "y2_ForwardSelection           100  1.000000   \n",
       "y2_SelectFromModel            100  1.000000   \n",
       "y2_PCA                        400  0.997863   \n",
       "y3_SelectFromModel            400  0.963307   \n",
       "y3_ForwardSelection           100  0.960102   \n",
       "y3_SelectKBest                100  0.950839   \n",
       "y3_PCA                        200  0.944785   \n",
       "y1_ForwardSelection           200  0.910226   \n",
       "y1_SelectFromModel            200  0.898471   \n",
       "y1_SelectKBest                200  0.874245   \n",
       "y1_PCA                        300  0.858922   \n",
       "\n",
       "                                                              features  \n",
       "y2_SelectKBest       [segment___LINKEDIT_entropy, segment___TEXT___...  \n",
       "y2_ForwardSelection  [@rpath/SyncSupport.framework/Versions/A/SyncS...  \n",
       "y2_SelectFromModel   [entropy, segment___LINKEDIT_entropy, segment_...  \n",
       "y2_PCA               [@rpath/JNWScrollView.framework/Versions/A/JNW...  \n",
       "y3_SelectFromModel   [segment___LINKEDIT_entropy, segment___TEXT___...  \n",
       "y3_ForwardSelection  [@rpath/SyncSupport.framework/Versions/A/SyncS...  \n",
       "y3_SelectKBest       [segment___LINKEDIT_entropy, segment___TEXT___...  \n",
       "y3_PCA               [@rpath/JNWScrollView.framework/Versions/A/JNW...  \n",
       "y1_ForwardSelection  [flag_NOREEXPORTED_DYLIBS, @rpath/libplist.3.d...  \n",
       "y1_SelectFromModel   [flag_NOREEXPORTED_DYLIBS, segment___TEXT_vmsi...  \n",
       "y1_SelectKBest       [__DATA_CONST, segment___DATA___objc_const, se...  \n",
       "y1_PCA               [@rpath/JNWScrollView.framework/Versions/A/JNW...  "
      ]
     },
     "execution_count": 32,
     "metadata": {},
     "output_type": "execute_result"
    }
   ],
   "source": [
    "model_results = pd.read_json(json.dumps(rfc_hyper), orient=\"index\")\n",
    "model_results.sort_values('score', ascending=False)"
   ]
  },
  {
   "cell_type": "markdown",
   "id": "5d0e0f2d",
   "metadata": {},
   "source": [
    "We loaded the GridSearchCV results into a separate dataframe and sorted by the score. We can see that there are multiple models that will result in perfect predictions to answer y2 - is this file packed? We could pick any of these hyperparameters and feature sets.  \n",
    "We have pretty good results for y3 - is this file packed malware? The highest score here was 96.33%. When building this model we want to select this combination of hyperparameters.  \n",
    "The y1 - is this file malware? - performed the worst, getting a score of only 91%. To build a better model, we could try and use more features, obtain more samples/build a larger data set, or try a different algorithm. _Note: With the full feature set, we can get slightly better results at 91.98%_."
   ]
  },
  {
   "cell_type": "markdown",
   "id": "2fd26a8f",
   "metadata": {},
   "source": [
    "# Model Training\n",
    "Here we'll build the actual models that we'll use to perform predictions. We select the best features and hyperparameters from the previous stage and use them to instantiate the classifier for each question. Then we create predictions using the testing dataset."
   ]
  },
  {
   "cell_type": "code",
   "execution_count": 36,
   "id": "e2cee60c",
   "metadata": {},
   "outputs": [],
   "source": [
    "rfc_y1 = RandomForestClassifier(criterion=rfc_hyper['y1_ForwardSelection']['criterion'],\n",
    "                            max_depth=rfc_hyper['y1_ForwardSelection']['max_depth'],\n",
    "                            min_samples_split=rfc_hyper['y1_ForwardSelection']['min_samples_split'],\n",
    "                            n_estimators=rfc_hyper['y1_ForwardSelection']['n_estimators'])\n",
    "nf = X_train[rfc_hyper['y1_ForwardSelection']['features']].select_dtypes('int', 'float').columns\n",
    "cf = X_train[rfc_hyper['y1_ForwardSelection']['features']].select_dtypes('string').columns\n",
    "ct = make_column_transformer(\n",
    "    (numeric_transformer, nf),\n",
    "    (categorical_transformer, cf),\n",
    "    remainder=\"passthrough\"\n",
    ")\n",
    "pipe_rfc_y1 = make_pipeline(ct, rfc_y1)\n",
    "pipe_rfc_y1.fit(X_train[rfc_hyper['y1_ForwardSelection']['features']], y1_train)\n",
    "rfc_y1_pred = pipe_rfc_y1.predict(X_test)"
   ]
  },
  {
   "cell_type": "code",
   "execution_count": 43,
   "id": "60213c1e",
   "metadata": {},
   "outputs": [],
   "source": [
    "rfc_y2 = RandomForestClassifier(criterion=rfc_hyper['y2_SelectKBest']['criterion'],\n",
    "                            max_depth=rfc_hyper['y2_SelectKBest']['max_depth'],\n",
    "                            min_samples_split=rfc_hyper['y2_SelectKBest']['min_samples_split'],\n",
    "                            n_estimators=rfc_hyper['y2_SelectKBest']['n_estimators'])\n",
    "nf = X_train[rfc_hyper['y2_SelectKBest']['features']].select_dtypes('int', 'float').columns\n",
    "cf = X_train[rfc_hyper['y2_SelectKBest']['features']].select_dtypes('string').columns\n",
    "ct = make_column_transformer(\n",
    "    (numeric_transformer, nf),\n",
    "    (categorical_transformer, cf),\n",
    "    remainder=\"passthrough\"\n",
    ")\n",
    "pipe_rfc_y2 = make_pipeline(ct, rfc_y2)\n",
    "pipe_rfc_y2.fit(X_train[rfc_hyper['y2_SelectKBest']['features']], y2_train)\n",
    "rfc_y2_pred = pipe_rfc_y2.predict(X_test)"
   ]
  },
  {
   "cell_type": "code",
   "execution_count": 44,
   "id": "ab50bcfa",
   "metadata": {},
   "outputs": [],
   "source": [
    "rfc_y3 = RandomForestClassifier(criterion=rfc_hyper['y3_SelectFromModel']['criterion'],\n",
    "                            max_depth=rfc_hyper['y3_SelectFromModel']['max_depth'],\n",
    "                            min_samples_split=rfc_hyper['y3_SelectFromModel']['min_samples_split'],\n",
    "                            n_estimators=rfc_hyper['y3_SelectFromModel']['n_estimators'])\n",
    "nf = X_train[rfc_hyper['y3_SelectFromModel']['features']].select_dtypes('int', 'float').columns\n",
    "cf = X_train[rfc_hyper['y3_SelectFromModel']['features']].select_dtypes('string').columns\n",
    "ct = make_column_transformer(\n",
    "    (numeric_transformer, nf),\n",
    "    (categorical_transformer, cf),\n",
    "    remainder=\"passthrough\"\n",
    ")\n",
    "pipe_rfc_y3 = make_pipeline(ct, rfc_y3)\n",
    "pipe_rfc_y3.fit(X_train[rfc_hyper['y3_SelectFromModel']['features']], y3_train)\n",
    "rfc_y3_pred = pipe_rfc_y3.predict(X_test)"
   ]
  },
  {
   "cell_type": "markdown",
   "id": "bfd84d41",
   "metadata": {},
   "source": [
    "# Model Evaluation\n",
    "Finally, we'll evaluate the models. In addition to the numeric values, we can visualize how the models are performing.\n",
    "\n",
    "A confusion matrix displays the true positives, false positives, true negatives, and false negatives. The proportion of each result contributes to a darker hue. Perfect results will have no color for false negatives/false positives, and a deep color for true negatives/true positives.\n",
    "\n",
    "A precision-recall curve plots precision on the y-axis and recall on the x-axis. Perfect results are visualized as a line that goes along the top and right of the graph and helps us see where a good balance of the two measures are.\n",
    "\n",
    "The receiver operator characteristic (ROC) curve displays the false positive rate along the x-axis and the true positive rate along the y-axis. Perfect results are a line that goes along the left and top of the graph. \n",
    "\n",
    "Here we define functions to show each graph and then call them."
   ]
  },
  {
   "cell_type": "code",
   "execution_count": 37,
   "id": "f2b1e4f7",
   "metadata": {},
   "outputs": [],
   "source": [
    "import matplotlib.pyplot as plt\n",
    "from sklearn.metrics import confusion_matrix, ConfusionMatrixDisplay\n",
    "def display_cm(y_test, y_pred, pipe, name):\n",
    "    disp = ConfusionMatrixDisplay.from_predictions(y_test, y_pred, cmap=plt.cm.Blues)\n",
    "    plt.savefig(f'{name}_confusion_matrix.png')\n",
    "    plt.show()"
   ]
  },
  {
   "cell_type": "code",
   "execution_count": 38,
   "id": "ff9b619f",
   "metadata": {},
   "outputs": [],
   "source": [
    "from sklearn.metrics import PrecisionRecallDisplay\n",
    "from sklearn.metrics import precision_recall_curve\n",
    "def display_prc(y_test, y_pred, name):\n",
    "    PrecisionRecallDisplay.from_predictions(y_test, y_pred)\n",
    "    plt.savefig(f'{name}_precision_recall.png')"
   ]
  },
  {
   "cell_type": "code",
   "execution_count": 39,
   "id": "14829a1f",
   "metadata": {},
   "outputs": [],
   "source": [
    "from sklearn.metrics import roc_curve, auc\n",
    "def display_roc(y_test, y_pred, name):\n",
    "    fpr, tpr, _ = roc_curve(y_test, y_pred)\n",
    "    roc_auc = auc(fpr, tpr)\n",
    "    plt.figure()\n",
    "    lw = 2\n",
    "    plt.plot(\n",
    "        fpr,\n",
    "        tpr,\n",
    "        color=\"darkorange\",\n",
    "        lw=lw,\n",
    "        label=\"ROC curve (area = %0.2f)\" % roc_auc,\n",
    "    )\n",
    "    plt.plot([0, 1], [0, 1], color=\"navy\", lw=lw, linestyle=\"--\")\n",
    "    plt.xlim([0.0, 1.0])\n",
    "    plt.ylim([0.0, 1.05])\n",
    "    plt.xlabel(\"False Positive Rate\")\n",
    "    plt.ylabel(\"True Positive Rate\")\n",
    "    plt.title(\"Receiver operating characteristic\")\n",
    "    plt.legend(loc=\"lower right\")\n",
    "    plt.savefig(f'{name}_roc.png')\n",
    "    plt.show()"
   ]
  },
  {
   "cell_type": "code",
   "execution_count": 51,
   "id": "dd8629fd",
   "metadata": {},
   "outputs": [
    {
     "name": "stdout",
     "output_type": "stream",
     "text": [
      "# Malware Results: \n",
      "## Accuracy: 0.9131054131054132\n",
      "## F1: 0.9224904701397714\n"
     ]
    },
    {
     "data": {
      "image/png": "[encoded data removed]",
      "text/plain": [
       "<Figure size 432x288 with 2 Axes>"
      ]
     },
     "metadata": {
      "needs_background": "light"
     },
     "output_type": "display_data"
    },
    {
     "data": {
      "image/png": "[encoded data removed]",
      "text/plain": [
       "<Figure size 432x288 with 1 Axes>"
      ]
     },
     "metadata": {
      "needs_background": "light"
     },
     "output_type": "display_data"
    },
    {
     "data": {
      "image/png": "[encoded data removed]",
      "text/plain": [
       "<Figure size 432x288 with 1 Axes>"
      ]
     },
     "metadata": {
      "needs_background": "light"
     },
     "output_type": "display_data"
    }
   ],
   "source": [
    "print(\"# Malware Results: \")\n",
    "print(f\"## Accuracy: {accuracy_score(y1_test, rfc_y1_pred)}\")\n",
    "print(f\"## F1: {f1_score(y1_test, rfc_y1_pred)}\")\n",
    "display_cm(y1_test, rfc_y1_pred, pipe, 'rfc_y1')\n",
    "display_prc(y1_test, rfc_y1_pred, 'rfc_y1')\n",
    "display_roc(y1_test, rfc_y1_pred, 'rfc_y1')"
   ]
  },
  {
   "cell_type": "code",
   "execution_count": 52,
   "id": "53d696c6",
   "metadata": {},
   "outputs": [
    {
     "name": "stdout",
     "output_type": "stream",
     "text": [
      "# Packed Results: \n",
      "## Accuracy: 1.0\n",
      "## F1: 1.0\n"
     ]
    },
    {
     "data": {
      "image/png": "[encoded data removed]",
      "text/plain": [
       "<Figure size 432x288 with 2 Axes>"
      ]
     },
     "metadata": {
      "needs_background": "light"
     },
     "output_type": "display_data"
    },
    {
     "data": {
      "image/png": "[encoded data removed]",
      "text/plain": [
       "<Figure size 432x288 with 1 Axes>"
      ]
     },
     "metadata": {
      "needs_background": "light"
     },
     "output_type": "display_data"
    },
    {
     "data": {
      "image/png": "[encoded data removed]",
      "text/plain": [
       "<Figure size 432x288 with 1 Axes>"
      ]
     },
     "metadata": {
      "needs_background": "light"
     },
     "output_type": "display_data"
    }
   ],
   "source": [
    "print(\"# Packed Results: \")\n",
    "print(f\"## Accuracy: {accuracy_score(y2_test, rfc_y2_pred)}\")\n",
    "print(f\"## F1: {f1_score(y2_test, rfc_y2_pred)}\")\n",
    "display_cm(y2_test, rfc_y2_pred, pipe, 'rfc_y2')\n",
    "display_prc(y2_test, rfc_y2_pred, 'rfc_y2')\n",
    "display_roc(y2_test, rfc_y2_pred, 'rfc_y2')"
   ]
  },
  {
   "cell_type": "code",
   "execution_count": 53,
   "id": "c1ab2a71",
   "metadata": {},
   "outputs": [
    {
     "name": "stdout",
     "output_type": "stream",
     "text": [
      "# Packed Malware Results: \n",
      "## Accuracy: 0.9672364672364673\n",
      "## F1: 0.9396325459317585\n"
     ]
    },
    {
     "data": {
      "image/png": "[encoded data removed]",
      "text/plain": [
       "<Figure size 432x288 with 2 Axes>"
      ]
     },
     "metadata": {
      "needs_background": "light"
     },
     "output_type": "display_data"
    },
    {
     "data": {
      "image/png": "[encoded data removed]",
      "text/plain": [
       "<Figure size 432x288 with 1 Axes>"
      ]
     },
     "metadata": {
      "needs_background": "light"
     },
     "output_type": "display_data"
    },
    {
     "data": {
      "image/png": "[encoded data removed]",
      "text/plain": [
       "<Figure size 432x288 with 1 Axes>"
      ]
     },
     "metadata": {
      "needs_background": "light"
     },
     "output_type": "display_data"
    }
   ],
   "source": [
    "print(\"# Packed Malware Results: \")\n",
    "print(f\"## Accuracy: {accuracy_score(y3_test, rfc_y3_pred)}\")\n",
    "print(f\"## F1: {f1_score(y3_test, rfc_y3_pred)}\")\n",
    "display_cm(y3_test, rfc_y3_pred, pipe, 'rfc_y3')\n",
    "display_prc(y3_test, rfc_y3_pred, 'rfc_y3')\n",
    "display_roc(y3_test, rfc_y3_pred, 'rfc_y3')"
   ]
  },
  {
   "cell_type": "code",
   "execution_count": null,
   "id": "44299c01",
   "metadata": {},
   "outputs": [],
   "source": []
  }
 ],
 "metadata": {
  "kernelspec": {
   "display_name": "conda_python3",
   "language": "python",
   "name": "conda_python3"
  },
  "language_info": {
   "codemirror_mode": {
    "name": "ipython",
    "version": 3
   },
   "file_extension": ".py",
   "mimetype": "text/x-python",
   "name": "python",
   "nbconvert_exporter": "python",
   "pygments_lexer": "ipython3",
   "version": "3.8.12"
  }
 },
 "nbformat": 4,
 "nbformat_minor": 5
}
